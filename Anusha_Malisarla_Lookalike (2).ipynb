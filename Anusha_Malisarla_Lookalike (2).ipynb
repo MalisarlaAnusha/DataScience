{
 "cells": [
  {
   "cell_type": "code",
   "execution_count": 69,
   "id": "c0b3afdf",
   "metadata": {},
   "outputs": [],
   "source": [
    "import numpy as np\n",
    "import pandas as pd\n",
    "from sklearn.preprocessing import StandardScaler, LabelEncoder\n",
    "from sklearn.metrics.pairwise import cosine_similarity\n"
   ]
  },
  {
   "cell_type": "markdown",
   "id": "ed6fc7b3",
   "metadata": {},
   "source": [
    "# loading the data sets"
   ]
  },
  {
   "cell_type": "code",
   "execution_count": 70,
   "id": "79814564",
   "metadata": {},
   "outputs": [],
   "source": [
    "#loading the data sets\n",
    "Customers = pd.read_csv(R'C:\\Users\\anush\\Downloads\\Customers.csv')\n",
    "Products = pd.read_csv(R\"C:\\Users\\anush\\Downloads\\Products.csv\")\n",
    "Transactions = pd.read_csv(R\"C:\\Users\\anush\\Downloads\\Transactions.csv\")"
   ]
  },
  {
   "cell_type": "code",
   "execution_count": 71,
   "id": "05fa39d3",
   "metadata": {},
   "outputs": [
    {
     "name": "stdout",
     "output_type": "stream",
     "text": [
      "       CustomerID      CustomerName         Region  SignupDate\n",
      "count         200               200            200         200\n",
      "unique        200               200              4         179\n",
      "top         C0001  Lawrence Carroll  South America  2024-11-11\n",
      "freq            1                 1             59           3\n"
     ]
    }
   ],
   "source": [
    "print(Customers.describe())"
   ]
  },
  {
   "cell_type": "code",
   "execution_count": 72,
   "id": "6919c0b9",
   "metadata": {},
   "outputs": [
    {
     "name": "stdout",
     "output_type": "stream",
     "text": [
      "  TransactionID CustomerID ProductID      TransactionDate  Quantity  \\\n",
      "0        T00001      C0199      P067  2024-08-25 12:38:23         1   \n",
      "1        T00112      C0146      P067  2024-05-27 22:23:54         1   \n",
      "2        T00166      C0127      P067  2024-04-25 07:38:55         1   \n",
      "3        T00272      C0087      P067  2024-03-26 22:55:37         2   \n",
      "4        T00363      C0070      P067  2024-03-21 15:10:10         3   \n",
      "\n",
      "   TotalValue  Price_x     CustomerName         Region  SignupDate  \\\n",
      "0      300.68   300.68   Andrea Jenkins         Europe  2022-12-03   \n",
      "1      300.68   300.68  Brittany Harvey           Asia  2024-09-04   \n",
      "2      300.68   300.68  Kathryn Stevens         Europe  2024-04-04   \n",
      "3      601.36   300.68  Travis Campbell  South America  2024-04-11   \n",
      "4      902.04   300.68    Timothy Perez         Europe  2022-03-15   \n",
      "\n",
      "                       ProductName     Category  Price_y  \n",
      "0  ComfortLiving Bluetooth Speaker  Electronics   300.68  \n",
      "1  ComfortLiving Bluetooth Speaker  Electronics   300.68  \n",
      "2  ComfortLiving Bluetooth Speaker  Electronics   300.68  \n",
      "3  ComfortLiving Bluetooth Speaker  Electronics   300.68  \n",
      "4  ComfortLiving Bluetooth Speaker  Electronics   300.68  \n"
     ]
    }
   ],
   "source": [
    "merged_data = Transactions.merge(Customers, on= \"CustomerID\")\n",
    "merged_data1 = merged_data.merge(Products, on = \"ProductID\")\n",
    "print(merged_data1.head())"
   ]
  },
  {
   "cell_type": "markdown",
   "id": "49c88f80",
   "metadata": {},
   "source": [
    "# Merge datasets"
   ]
  },
  {
   "cell_type": "raw",
   "id": "5807e3a8",
   "metadata": {},
   "source": [
    "\n",
    "merged_data = transactions.merge(customers, on=\"CustomerID\").merge(products, on=\"ProductID\")\n",
    "\n",
    "customer_stats = merged_data.groupby('CustomerID').agg({\n",
    "    'TotalValue': ['sum', 'mean'],\n",
    "    'TransactionID': 'count',\n",
    "    'Category': lambda x: x.mode()[0] if len(x.mode()) > 0 else None,\n",
    "}).reset_index()\n",
    "\n",
    "customer_stats.columns = ['CustomerID', 'TotalSpend', 'AvgSpendPerTransaction', 'TransactionCount', 'MostCommonCategory']\n",
    "\n"
   ]
  },
  {
   "cell_type": "code",
   "execution_count": 73,
   "id": "f5f70fc8",
   "metadata": {},
   "outputs": [],
   "source": [
    "# Normalize numerical features\n",
    "scaler = StandardScaler()\n",
    "numerical_features = ['TotalSpend', 'AvgSpendPerTransaction', 'TransactionCount']\n",
    "customer_stats[numerical_features] = scaler.fit_transform(customer_stats[numerical_features])\n",
    "\n",
    "# Encode categorical feature\n",
    "label_encoder = LabelEncoder()\n",
    "customer_stats['MostCommonCategory'] = label_encoder.fit_transform(customer_stats['MostCommonCategory'])\n",
    "\n"
   ]
  },
  {
   "cell_type": "code",
   "execution_count": 85,
   "id": "6d56e71b",
   "metadata": {},
   "outputs": [],
   "source": [
    "# Similarity Calculation\n",
    "similarity_matrix = pd.DataFrame( cosine_similarity(customer_stats.drop('CustomerID', axis=1)),index=customer_stats['CustomerID'],columns=customer_stats['CustomerID'])\n",
    "\n",
    "# Generate Lookalike Recommendations\n",
    "\n",
    "lookalike_map = {}\n",
    "for customer_id in similarity_matrix.index[:20]:  # First 20 customers\n",
    "    # Sort similarity scores for the customer, exclude itself, and select top 3\n",
    "    similar_customers = similarity_matrix.loc[customer_id].sort_values(ascending=False).iloc[1:4]\n",
    "    # Map customer_id to its top 3 similar customers with rounded scores\n",
    "    lookalike_map[customer_id] = [(sim_cust, round(sim_score, 2)) for sim_cust, sim_score in similar_customers.items()]\n",
    "\n",
    "\n"
   ]
  },
  {
   "cell_type": "markdown",
   "id": "c0c80683",
   "metadata": {},
   "source": [
    "# save to Lookalike.csv"
   ]
  },
  {
   "cell_type": "code",
   "execution_count": 86,
   "id": "5331b57c",
   "metadata": {},
   "outputs": [
    {
     "name": "stdout",
     "output_type": "stream",
     "text": [
      "Lookalike model completed. Results saved to Lookalike.csv.\n",
      "   CustomerID                                         Lookalikes\n",
      "0       C0001  [('C0152', 1.0), ('C0164', 1.0), ('C0160', 0.99)]\n",
      "1       C0002  [('C0029', 1.0), ('C0010', 1.0), ('C0060', 0.98)]\n",
      "2       C0003  [('C0178', 1.0), ('C0052', 1.0), ('C0166', 0.99)]\n",
      "3       C0004   [('C0021', 1.0), ('C0075', 1.0), ('C0156', 1.0)]\n",
      "4       C0005  [('C0112', 1.0), ('C0197', 1.0), ('C0133', 0.99)]\n",
      "5       C0006  [('C0117', 1.0), ('C0168', 0.99), ('C0185', 0....\n",
      "6       C0007  [('C0120', 1.0), ('C0092', 1.0), ('C0080', 0.98)]\n",
      "7       C0008  [('C0084', 0.99), ('C0162', 0.97), ('C0184', 0...\n",
      "8       C0009  [('C0077', 1.0), ('C0083', 1.0), ('C0033', 0.98)]\n",
      "9       C0010  [('C0029', 1.0), ('C0002', 1.0), ('C0009', 0.98)]\n",
      "10      C0011   [('C0064', 1.0), ('C0187', 1.0), ('C0018', 1.0)]\n",
      "11      C0012  [('C0039', 0.99), ('C0067', 0.99), ('C0105', 0...\n",
      "12      C0013  [('C0143', 1.0), ('C0054', 1.0), ('C0099', 0.99)]\n",
      "13      C0014  [('C0151', 1.0), ('C0128', 0.99), ('C0097', 0....\n",
      "14      C0015   [('C0132', 1.0), ('C0036', 1.0), ('C0027', 1.0)]\n",
      "15      C0016   [('C0183', 1.0), ('C0170', 1.0), ('C0182', 1.0)]\n",
      "16      C0017  [('C0090', 0.99), ('C0175', 0.98), ('C0075', 0...\n",
      "17      C0018   [('C0187', 1.0), ('C0171', 1.0), ('C0064', 1.0)]\n",
      "18      C0019  [('C0116', 0.99), ('C0174', 0.95), ('C0191', 0...\n",
      "19      C0020   [('C0042', 1.0), ('C0129', 1.0), ('C0176', 1.0)]\n"
     ]
    }
   ],
   "source": [
    "# Save to Lookalike.csv\n",
    "lookalike_df = pd.DataFrame({\n",
    "    'CustomerID': lookalike_map.keys(),\n",
    "    'Lookalikes': [str(v) for v in lookalike_map.values()]})\n",
    "lookalike_df.to_csv('Lookalike.csv', index=False)\n",
    "\n",
    "print(\"Lookalike model completed. Results saved to Lookalike.csv.\")\n",
    "print(lookalike_df)\n"
   ]
  },
  {
   "cell_type": "code",
   "execution_count": null,
   "id": "e4b83f0a",
   "metadata": {},
   "outputs": [],
   "source": []
  },
  {
   "cell_type": "code",
   "execution_count": null,
   "id": "e41be6c3",
   "metadata": {},
   "outputs": [],
   "source": []
  }
 ],
 "metadata": {
  "kernelspec": {
   "display_name": "Python 3 (ipykernel)",
   "language": "python",
   "name": "python3"
  },
  "language_info": {
   "codemirror_mode": {
    "name": "ipython",
    "version": 3
   },
   "file_extension": ".py",
   "mimetype": "text/x-python",
   "name": "python",
   "nbconvert_exporter": "python",
   "pygments_lexer": "ipython3",
   "version": "3.11.4"
  }
 },
 "nbformat": 4,
 "nbformat_minor": 5
}
